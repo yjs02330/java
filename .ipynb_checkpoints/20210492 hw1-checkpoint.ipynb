{
 "cells": [
  {
   "cell_type": "markdown",
   "id": "49b2bb3f-8a94-4aba-bf67-6b97d86c0047",
   "metadata": {},
   "source": [
    "# OOP (2024 Fall) HW1: 불변 순서쌍을 활용해 가변 순서쌍 만들기 \n",
    "- 이름: 이재석\n",
    "- 학번: 20210492\n",
    "\n",
    "여기 홍길동, 99999999 대신 본인의 이름, 학번 작성"
   ]
  },
  {
   "cell_type": "markdown",
   "id": "9c3c24aa-19ac-4c88-a228-0d1686034a24",
   "metadata": {},
   "source": [
    "-----\n",
    "## Part A: 불변 순서쌍 Pair\n",
    "1. 클래스(또는 정적) 팩토리 메소드 `of`를 를 수정하여 완성하라.\n",
    "    - https://velog.io/@cjh8746/%EC%A0%95%EC%A0%81-%ED%8C%A9%ED%86%A0%EB%A6%AC-%EB%A9%94%EC%84%9C%EB%93%9CStatic-Factory-Method\n",
    "1. 주석 부분을 풀어 제너릭 클래스인 `Pair`가 제너릭 인터페이스 `Comparable`를 구현하도록 완성하라.\n",
    "    - https://docs.oracle.com/en/java/javase/22/docs/api/java.base/java/lang/Comparable.html"
   ]
  },
  {
   "cell_type": "code",
   "execution_count": 7,
   "id": "f2b4bcb7-9d9c-494a-9762-ca0700c6f762",
   "metadata": {},
   "outputs": [],
   "source": [
    "public record Pair<F extends Comparable<F>, S extends Comparable<S>>(F first, S second) implements Comparable<Pair<F, S>> {\n",
    "\n",
    "    // 아래 팩토리 메소드 of가 컴파일되지 않고 있으니 컴파일되도록 수정하라 (힌트: 제너릭 메소드)\n",
    "    public static <F extends Comparable<F>, S extends Comparable<S>> Pair<F, S> of(F first, S second) {\n",
    "        return new Pair<>(first, second);\n",
    "    }\n",
    "\n",
    "    // 사전순이 되도록 정의하기. 즉 first가 더 큰 쪽이 더 크고, first가 같으면 second를 비교\n",
    "    @Override\n",
    "    public int compareTo(Pair<F, S> other) {\n",
    "        int firstComparison = this.first.compareTo(other.first);\n",
    "        if (firstComparison != 0) {\n",
    "            return firstComparison;\n",
    "        } else {\n",
    "            return this.second.compareTo(other.second);\n",
    "        }\n",
    "    }\n",
    "}\n"
   ]
  },
  {
   "cell_type": "code",
   "execution_count": 11,
   "id": "5fb5b2ac-4ac0-40cc-9f87-1675177e4baa",
   "metadata": {},
   "outputs": [
    {
     "name": "stdout",
     "output_type": "stream",
     "text": [
      "-1\n",
      "-1\n",
      "0\n"
     ]
    }
   ],
   "source": [
    "/* compareTo 가 잘 동작하는지\n",
    "   - 왼쪽이 더 큰 경우\n",
    "   - 왼쪽이 더 작은 경우\n",
    "   - 같은 경우\n",
    "   이런 경우를 각각 포함하도록 이렇게 최소 3개 이상의 테스트를 실행해 보라\n",
    "*/\n",
    "\n",
    "// 대략 이런 식으로 테스트 실행\n",
    "// System.out.println( ??.compareTo(??) );\n",
    "// System.out.println( ??.compareTo(??) );\n",
    "// System.out.println( ??.compareTo(??) );\n",
    "Pair<Integer, String> p1 = Pair.of(1, \"문자열1\");\n",
    "Pair<Integer, String> p2 = Pair.of(2, \"문자열2\");\n",
    "Pair<Integer, String> p3 = Pair.of(1, \"문자열2\");\n",
    "\n",
    "// 첫 번째 값이 다를 경우\n",
    "        System.out.println(p1.compareTo(p2)); // 출력: 음수\n",
    "\n",
    "        // 첫 번째 값이 같고 두 번째 값이 다를 경우\n",
    "        System.out.println(p1.compareTo(p3)); // 출력: 음수\n",
    "\n",
    "        // 첫 번째 값과 두 번째 값이 같은 경우\n",
    "        System.out.println(p3.compareTo(p3)); // 출력: 0"
   ]
  },
  {
   "cell_type": "markdown",
   "id": "e2774a64-250e-4e89-a536-5a8ed42bb4ce",
   "metadata": {},
   "source": [
    "------\n",
    "## Part B: 가변 순서쌍 ModifiablePair\n",
    "\n",
    "불변 순서쌍만을 priviate 필드로 갖고 있는 가변 순서쌍 제너릭 클래스를 작성하라\n",
    "\n",
    "가변 순서쌍은 불변 순서쌍과 마찬가지 이름의 getter 메소드가 있고 추가로 setter 메소드도 있다.\n",
    "\n",
    "또, 가변 순서쌍도 불변 순서쌍과 마찬가지로 Comparable 제너릭 인터페이스를 구현하라.\n"
   ]
  },
  {
   "cell_type": "code",
   "execution_count": 12,
   "id": "38eb649f-d95e-40d8-a33b-658df4ee4a7f",
   "metadata": {},
   "outputs": [],
   "source": [
    "public class ModifiablePair<F extends Comparable<F>, S extends Comparable<S>> implements Comparable<ModifiablePair<F, S>> {\n",
    "    private Pair<F,S> pair; // 이 field 말고 다른 field는 추가로 정의하지 말 것!\n",
    "\n",
    "    ModifiablePair(F first, S second) {\n",
    "        this.pair = Pair.of(first, second);\n",
    "    }\n",
    "    \n",
    "    // getter들은 pair에게 위임(delegate)하는 방식으로 작성하라\n",
    "    public F first() {\n",
    "        return pair.first();\n",
    "    }\n",
    "    public S second() {\n",
    "       return pair.second();\n",
    "    }\n",
    "    \n",
    "    // setter들은 적절히 정의하라\n",
    "    public void setFirst(F first) {\n",
    "        this.pair = Pair.of(first, pair.second());\n",
    "    }\n",
    "    public void setSecond(S second) {\n",
    "        this.pair = Pair.of(pair.first(), second);\n",
    "    }\n",
    "\n",
    "    /*\n",
    "    // compareTo는 pair에게 위임(delegate)하는 방식으로 작성하라\n",
    "    @Override\n",
    "    public int compareTo(...) {\n",
    "    }\n",
    "    */\n",
    "    @Override\n",
    "    public int compareTo(ModifiablePair<F, S> other) {\n",
    "        return this.pair.compareTo(other.pair);\n",
    "    }\n",
    "\n",
    "    @Override\n",
    "    public String toString() { \n",
    "        return pair.toString(); // toString은 그냥 pair에게 위임\n",
    "    }\n",
    "}"
   ]
  },
  {
   "cell_type": "code",
   "execution_count": 4,
   "id": "57af3b33-b9db-43bd-a8e7-5b35d97aaf5e",
   "metadata": {},
   "outputs": [],
   "source": [
    "// ModifiablePair<F,S>의 getter와 setter들이 잘 동작하는지 확인할 수 있는 적절한 테스트 코드 작성하여 실행하라.\n",
    "// 그러니까 `first()`, `second()`, `setFrist(F)`, `setSecond(S)` 메소드를 모두 활용하는 예시 코드를 작성해 실행하라는 말이다."
   ]
  },
  {
   "cell_type": "code",
   "execution_count": 15,
   "id": "e0b9e66e-d3fa-4485-b6f6-4075eca8fcf3",
   "metadata": {},
   "outputs": [
    {
     "name": "stdout",
     "output_type": "stream",
     "text": [
      "1\n",
      "문자열1\n",
      "3\n",
      "문자열1-1\n",
      "1\n",
      "1\n",
      "0\n"
     ]
    }
   ],
   "source": [
    "/* 가변 순써상에 대해서도\n",
    "  compareTo 가 잘 동작하는지\n",
    "   - 왼쪽이 더 큰 경우\n",
    "   - 왼쪽이 더 작은 경우\n",
    "   - 같은 경우\n",
    "   이런 경우를 각각 포함하도록 이렇게 최소 3개 이상의 테스트를 실행해 보라\n",
    "*/\n",
    "        ModifiablePair<Integer, String> mp1 = new ModifiablePair<>(1, \"문자열1\");\n",
    "        ModifiablePair<Integer, String> mp2 = new ModifiablePair<>(2, \"문자열2\");\n",
    "        ModifiablePair<Integer, String> mp3 = new ModifiablePair<>(1, \"문자열2\");\n",
    "\n",
    "        // getter 메소드 확인\n",
    "        System.out.println(mp1.first()); // 1\n",
    "        System.out.println(mp1.second()); // 문자열1\n",
    "\n",
    "        // setter 메소드 확인 mp1 초기화\n",
    "        mp1.setFirst(3);\n",
    "        mp1.setSecond(\"문자열1-1\");\n",
    "        System.out.println(mp1.first()); // 3\n",
    "        System.out.println(mp1.second()); // 문자열1-1\n",
    "\n",
    "        // compareTo 메소드 확인\n",
    "        System.out.println(mp1.compareTo(mp2)); // 출력: 1 (mp1 > mp2)\n",
    "        System.out.println(mp1.compareTo(mp3)); // 출력: 양수 (3 > 1)\n",
    "        System.out.println(mp2.compareTo(mp2)); // 출력: 0 (mp2 == mp2)"
   ]
  }
 ],
 "metadata": {
  "kernelspec": {
   "display_name": "Java (rjk 2.1.0)",
   "language": "java",
   "name": "rapaio-jupyter-kernel"
  },
  "language_info": {
   "codemirror_mode": "java",
   "file_extension": ".jshell",
   "mimetype": "text/x-java-source",
   "name": "java",
   "nbconvert_exporter": "script",
   "pygments_lexer": "java",
   "version": "22.0.2+9"
  }
 },
 "nbformat": 4,
 "nbformat_minor": 5
}
