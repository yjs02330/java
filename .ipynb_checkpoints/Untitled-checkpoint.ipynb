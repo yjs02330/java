{
 "cells": [
  {
   "cell_type": "code",
   "execution_count": null,
   "id": "f6aa2caa-ceda-4e69-873a-b28f85488aa5",
   "metadata": {},
   "outputs": [],
   "source": [
    "var numbers = List.of(1, 2, 3);\n",
    "System.out.println(numbers);"
   ]
  },
  {
   "cell_type": "code",
   "execution_count": 1,
   "id": "d0ac710d-72e8-41c1-b0f0-5552efcc972b",
   "metadata": {},
   "outputs": [
    {
     "ename": "CompilerException",
     "evalue": "",
     "output_type": "error",
     "traceback": [
      "\u001b[0m\u001b[1m\u001b[31mCompile error:\u001b[0m",
      "\u001b[0m\u001b[1m|    \u001b[0m\u001b[1m\u001b[48;2;235;145;148mnumbers\u001b[0m\u001b[1m.set(0,10)\u001b[0m",
      "\u001b[0m\u001b[1m\u001b[34mcannot find symbol\u001b[0m",
      "\u001b[0m\u001b[1m\u001b[34m  symbol:   variable numbers\u001b[0m",
      ""
     ]
    }
   ],
   "source": [
    "numbers.set(0,10)"
   ]
  },
  {
   "cell_type": "code",
   "execution_count": null,
   "id": "a8c9e294-2bf1-4924-b80a-4d15c7dedc12",
   "metadata": {},
   "outputs": [],
   "source": [
    "class User { //객체 비교 코드\n",
    "  private final String name;\n",
    "  public User(String name) {\n",
    "    this.name = Objects.requireNonNull(name);\n",
    "  }\n",
    "    // object로부터 물려받은 equals를 쓰지 않고 정의를 덮어쓰는 overriding\n",
    "    //@override 어노테이션을 잘 쓰는 습관이 중요 찾아보기!@@@@@@@\n",
    "  \n",
    "    public boolean equals(Object o) {\n",
    "    return o instanceof User user &&\n",
    "      name.equals(user.name); // 이 줄은 string 객체의 equals를 호출\n",
    "  }\n",
    "  public int hashCode() {\n",
    "    return name.hashCode();\n",
    "  }\n",
    "  public String toString() {\n",
    "    return \"User \" + name;\n",
    "  }\n",
    "}\n",
    "var user1 = new User(\"Bob12\");\n",
    "var user2 = new User(\"Bob12\");\n",
    "System.out.println(user1.equals(user2));\n",
    "System.out.println(user1.hashCode() == user2.hashCode());\n",
    "System.out.println(user1);\n",
    "System.out.println(user2);"
   ]
  },
  {
   "cell_type": "code",
   "execution_count": 3,
   "id": "8911325b-d1f8-46af-bb82-cebcfd5720a8",
   "metadata": {},
   "outputs": [],
   "source": [
    "import java.util.*;\n",
    "\n",
    "public class RailwayRoute {\n",
    "\n",
    "    // 인접리스트로 노선도 표현\n",
    "    static Map<String, List<String>> routeMap = new HashMap<>();\n",
    "\n",
    "    static {\n",
    "        routeMap.put(\"서울\", Arrays.asList(\"원주\", \"천안\"));\n",
    "        routeMap.put(\"원주\", Arrays.asList(\"평창\", \"안동\"));\n",
    "        routeMap.put(\"평창\", Arrays.asList(\"강릉\"));\n",
    "        routeMap.put(\"강릉\", new ArrayList<>());  // 강릉은 종점이므로 빈 리스트\n",
    "        routeMap.put(\"안동\", new ArrayList<>());  // 안동도 종점\n",
    "        routeMap.put(\"천안\", Arrays.asList(\"대전\", \"공주\"));\n",
    "        routeMap.put(\"대전\", Arrays.asList(\"대구\", \"익산\"));\n",
    "        routeMap.put(\"대구\", Arrays.asList(\"부산\"));\n",
    "        routeMap.put(\"부산\", new ArrayList<>());  // 부산은 종점\n",
    "        routeMap.put(\"공주\", Arrays.asList(\"익산\"));\n",
    "        routeMap.put(\"익산\", Arrays.asList(\"광주\", \"전주\"));\n",
    "        routeMap.put(\"광주\", Arrays.asList(\"목포\"));\n",
    "        routeMap.put(\"목포\", new ArrayList<>());  // 목포는 종점\n",
    "        routeMap.put(\"전주\", Arrays.asList(\"여수\"));\n",
    "        routeMap.put(\"여수\", new ArrayList<>());  // 여수는 종점\n",
    "    }\n",
    "\n",
    "    // 출발지(orig)로부터 도착지(dest)까지 하행선 노선이 연결되어 있는지 판별하는 함수\n",
    "    static boolean hasPath(String orig, String dest) {\n",
    "        if (orig.equals(dest)) {\n",
    "            return true;  // 출발지와 도착지가 같으면 true\n",
    "        }\n",
    "\n",
    "        // 출발지(orig)에 인접한 도시들을 가져옴\n",
    "        List<String> neighbors = routeMap.get(orig);\n",
    "        if (neighbors == null || neighbors.isEmpty()) {\n",
    "            return false;  // 인접한 도시가 없으면 경로가 없으므로 false\n",
    "        }\n",
    "\n",
    "        // 인접 도시들 중 하나라도 도착지(dest)에 연결되어 있으면 true\n",
    "        for (String neighbor : neighbors) {\n",
    "            if (hasPath(neighbor, dest)) {\n",
    "                return true;\n",
    "            }\n",
    "        }\n",
    "\n",
    "        return false;  // 인접 도시들 중 도착지까지 경로가 없으면 false\n",
    "    }\n",
    "\n",
    "    public static void main(String[] args) {\n",
    "        // 몇몇 도시들로 hasPath 함수를 테스트\n",
    "        System.out.println(hasPath(\"서울\", \"부산\"));  // true\n",
    "        System.out.println(hasPath(\"서울\", \"강릉\"));  // true\n",
    "        System.out.println(hasPath(\"서울\", \"안동\"));  // true\n",
    "        System.out.println(hasPath(\"광주\", \"부산\"));  // false\n",
    "        System.out.println(hasPath(\"대전\", \"목포\"));  // true\n",
    "        System.out.println(hasPath(\"대구\", \"목포\"));  // false\n",
    "    }\n",
    "}\n"
   ]
  }
 ],
 "metadata": {
  "kernelspec": {
   "display_name": "Java (rjk 2.1.0)",
   "language": "java",
   "name": "rapaio-jupyter-kernel"
  },
  "language_info": {
   "codemirror_mode": "java",
   "file_extension": ".jshell",
   "mimetype": "text/x-java-source",
   "name": "java",
   "nbconvert_exporter": "script",
   "pygments_lexer": "java",
   "version": "22.0.2+9"
  }
 },
 "nbformat": 4,
 "nbformat_minor": 5
}
