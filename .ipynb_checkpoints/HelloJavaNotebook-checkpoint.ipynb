{
 "cells": [
  {
   "cell_type": "markdown",
   "id": "83543914-1ef7-4931-8224-0a48b3df7499",
   "metadata": {},
   "source": [
    "이름: 이재석"
   ]
  },
  {
   "cell_type": "markdown",
   "id": "ea1c34cd-a25e-4e50-a7f6-f64aa6077cf5",
   "metadata": {},
   "source": [
    "학번: 20210492"
   ]
  },
  {
   "cell_type": "markdown",
   "id": "f14e476e-a507-4c6e-a372-093261cf0b19",
   "metadata": {},
   "source": [
    "Github Profile: https://github.com/yjs02330"
   ]
  },
  {
   "cell_type": "code",
   "execution_count": 2,
   "id": "b70c04f5-1e9a-47e8-a1d5-03732d93e5fa",
   "metadata": {},
   "outputs": [
    {
     "name": "stdout",
     "output_type": "stream",
     "text": [
      "yjs02330\n"
     ]
    }
   ],
   "source": [
    "%%bash\n",
    "echo $GITHUB_USER"
   ]
  },
  {
   "cell_type": "code",
   "execution_count": 3,
   "id": "d7d7dae3-d5df-4dde-ae57-42dda60601ad",
   "metadata": {},
   "outputs": [
    {
     "name": "stdout",
     "output_type": "stream",
     "text": [
      "openjdk 22.0.2 2024-07-16\n",
      "OpenJDK Runtime Environment Temurin-22.0.2+9 (build 22.0.2+9)\n",
      "OpenJDK 64-Bit Server VM Temurin-22.0.2+9 (build 22.0.2+9, mixed mode, sharing)\n"
     ]
    }
   ],
   "source": [
    "%%bash\n",
    "java --version"
   ]
  },
  {
   "cell_type": "code",
   "execution_count": 1,
   "id": "5c615827-c3cf-4b7b-a7e0-66f38f923178",
   "metadata": {},
   "outputs": [
    {
     "data": {
      "text/plain": [
       "22.0.2+9"
      ]
     },
     "execution_count": 1,
     "metadata": {},
     "output_type": "execute_result"
    }
   ],
   "source": [
    "Runtime.version()"
   ]
  },
  {
   "cell_type": "code",
   "execution_count": null,
   "id": "8baff999-49f9-41c4-9705-459eb1dbb6f3",
   "metadata": {},
   "outputs": [],
   "source": []
  },
  {
   "cell_type": "code",
   "execution_count": null,
   "id": "d9225fd2-536f-42bb-b2df-4c45a5757e1e",
   "metadata": {},
   "outputs": [],
   "source": []
  }
 ],
 "metadata": {
  "kernelspec": {
   "display_name": "Java (rjk 2.1.0)",
   "language": "java",
   "name": "rapaio-jupyter-kernel"
  },
  "language_info": {
   "codemirror_mode": "java",
   "file_extension": ".jshell",
   "mimetype": "text/x-java-source",
   "name": "java",
   "nbconvert_exporter": "script",
   "pygments_lexer": "java",
   "version": "22.0.2+9"
  }
 },
 "nbformat": 4,
 "nbformat_minor": 5
}
